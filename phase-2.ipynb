{
 "cells": [
  {
   "cell_type": "markdown",
   "id": "e369bf3a",
   "metadata": {},
   "source": [
    "### Numpy Array operations"
   ]
  },
  {
   "cell_type": "code",
   "execution_count": 2,
   "id": "2e23e082",
   "metadata": {},
   "outputs": [],
   "source": [
    "import numpy as np"
   ]
  },
  {
   "cell_type": "code",
   "execution_count": 3,
   "id": "ae339bd4",
   "metadata": {},
   "outputs": [
    {
     "name": "stdout",
     "output_type": "stream",
     "text": [
      "Basic slicing:-> [3 4 5 6 7]\n",
      "with step slicing:-> [2 4]\n",
      "negative indexing:-> 7\n"
     ]
    }
   ],
   "source": [
    "arr = np.array([1,2,3,4,5,6,7,8,9]) # 2 ke bad start karo or 7 tak jao\n",
    "print(\"Basic slicing:->\",arr[2:7])\n",
    "\n",
    "# with steps\n",
    "print(\"with step slicing:->\",arr[1:5:2])\n",
    "print(\"negative indexing:->\",arr[-3])"
   ]
  },
  {
   "cell_type": "markdown",
   "id": "f1a24a03",
   "metadata": {},
   "source": [
    "## 2d Array Slicing"
   ]
  },
  {
   "cell_type": "code",
   "execution_count": 4,
   "id": "811fe4d7",
   "metadata": {},
   "outputs": [
    {
     "name": "stdout",
     "output_type": "stream",
     "text": [
      "specific element 6\n",
      "entire row:-> [4 5 6]\n",
      "column of all rows:-> [2 5 8]\n"
     ]
    }
   ],
   "source": [
    "arr_2d = np.array([[1,2,3],\n",
    "                   [4,5,6],\n",
    "                   [7,8,9]])\n",
    "                                    \n",
    "print(\"specific element\",arr_2d[1,2]) # row:element\n",
    "print(\"entire row:->\",arr_2d[1]) # row\n",
    "print(\"column of all rows:->\",arr_2d[:, 1]) # all_row : column"
   ]
  },
  {
   "cell_type": "markdown",
   "id": "8c826617",
   "metadata": {},
   "source": [
    "### Sorting"
   ]
  },
  {
   "cell_type": "code",
   "execution_count": 5,
   "id": "cea0ac04",
   "metadata": {},
   "outputs": [
    {
     "name": "stdout",
     "output_type": "stream",
     "text": [
      "sorted array:-> [ 1  1  2  4  4  5  7 11 61]\n",
      "sorted 2d array by column:-> [[1 1]\n",
      " [3 2]\n",
      " [4 3]]\n",
      "sorted 2d array by rows:-> [[1 3]\n",
      " [1 2]\n",
      " [3 4]]\n"
     ]
    }
   ],
   "source": [
    "unsorted_array = np.array([1,2,4,7,4,11,5,61,1])\n",
    "print(\"sorted array:->\",np.sort(unsorted_array)) # it sort array like python way\n",
    "\n",
    "arr_2d = np.array([[3,1],\n",
    "                   [1,2],\n",
    "                   [4,3]])\n",
    "print(\"sorted 2d array by column:->\",np.sort(arr_2d,axis=0)) # the axis is used to sort 2d array by columns:\n",
    "print(\"sorted 2d array by rows:->\",np.sort(arr_2d,axis=1)) # the axis is used to sort 2d array by rows:"
   ]
  },
  {
   "cell_type": "markdown",
   "id": "61f9d0b6",
   "metadata": {},
   "source": [
    "### Filter"
   ]
  },
  {
   "cell_type": "code",
   "execution_count": 6,
   "id": "3616f53a",
   "metadata": {},
   "outputs": [
    {
     "name": "stdout",
     "output_type": "stream",
     "text": [
      "[ 2  4  6  8 10]\n"
     ]
    }
   ],
   "source": [
    "numbers = np.array([1,2,3,4,5,6,7,8,9,10])\n",
    "even_num = numbers[numbers % 2 == 0]\n",
    "print(even_num)"
   ]
  },
  {
   "cell_type": "markdown",
   "id": "d9a52152",
   "metadata": {},
   "source": [
    "### Filter with Mask"
   ]
  },
  {
   "cell_type": "code",
   "execution_count": 7,
   "id": "4d734a0c",
   "metadata": {},
   "outputs": [
    {
     "name": "stdout",
     "output_type": "stream",
     "text": [
      "numbers greater then 5:-> [ 6  7  8  9 10]\n"
     ]
    }
   ],
   "source": [
    "numbers = np.array([1,2,3,4,5,6,7,8,9,10])\n",
    "mask = numbers > 5\n",
    "print(\"numbers greater then 5:->\",numbers[mask])"
   ]
  },
  {
   "cell_type": "markdown",
   "id": "c37269b2",
   "metadata": {},
   "source": [
    "### Fancy indexing Vs np.where()"
   ]
  },
  {
   "cell_type": "code",
   "execution_count": 8,
   "id": "753c4515",
   "metadata": {},
   "outputs": [
    {
     "name": "stdout",
     "output_type": "stream",
     "text": [
      "indices via numpy_style:-> [3 8 3]\n",
      "NP where:-> [ 6  7  8  9 10]\n"
     ]
    }
   ],
   "source": [
    "numbers = np.array([1,2,3,4,5,6,7,8,9,10])\n",
    "indices = [2,7,2]\n",
    "print(\"indices via numpy_style:->\",numbers[indices])\n",
    "\n",
    "where_result = np.where(numbers>5) # we can write complex operations in (where_function)\n",
    "print(\"NP where:->\",numbers[where_result])"
   ]
  },
  {
   "cell_type": "markdown",
   "id": "98b6215f",
   "metadata": {},
   "source": [
    "### where use_case"
   ]
  },
  {
   "cell_type": "code",
   "execution_count": 9,
   "id": "6503669b",
   "metadata": {},
   "outputs": [
    {
     "name": "stdout",
     "output_type": "stream",
     "text": [
      "conditioned array:-> ['False' 'False' 'False' 'False' 'False' 'True' 'True' 'True' 'True'\n",
      " 'True']\n"
     ]
    }
   ],
   "source": [
    "numbers = np.array([1,2,3,4,5,6,7,8,9,10])\n",
    "conditioned_array = np.where(numbers>5,\"True\",\"False\")\n",
    "print(\"conditioned array:->\",conditioned_array)\n",
    "\n",
    "## it is like if else:\n",
    "\n",
    "# if numbers > 5:\n",
    "#   print(\"True\")\n",
    "# else:\n",
    "#   print(\"False\")\n"
   ]
  },
  {
   "cell_type": "markdown",
   "id": "48ce757a",
   "metadata": {},
   "source": [
    "## Adding and Removing Data"
   ]
  },
  {
   "cell_type": "markdown",
   "id": "58311f10",
   "metadata": {},
   "source": [
    "#### Combined Array"
   ]
  },
  {
   "cell_type": "code",
   "execution_count": null,
   "id": "d5fe03ee",
   "metadata": {},
   "outputs": [
    {
     "name": "stdout",
     "output_type": "stream",
     "text": [
      "combined Array:-> [1 2 3 1 5 6]\n"
     ]
    }
   ],
   "source": [
    "arr1 = np.array([1,2,3])\n",
    "arr2 = np.array([4,5,6])\n",
    "combined = np.concatenate((arr1,arr2))\n",
    "print(\"combined Array:->\",combined)"
   ]
  },
  {
   "cell_type": "markdown",
   "id": "8f7defb6",
   "metadata": {},
   "source": [
    "### Array Compatibility"
   ]
  },
  {
   "cell_type": "code",
   "execution_count": null,
   "id": "4c778745",
   "metadata": {},
   "outputs": [
    {
     "name": "stdout",
     "output_type": "stream",
     "text": [
      "combatibility shapes:-> True\n",
      "combatibility shapes:-> (3,) False\n"
     ]
    }
   ],
   "source": [
    "a = np.array([1,2,3])\n",
    "b = np.array([1,2,3,5])\n",
    "c = np.array([1,2,3])\n",
    "\n",
    "print(\"combatibility shapes:->\",a.shape == c.shape) # it checks the combatibility bec it's necessory for performing multiplition , adding ...etc\n",
    "print(\"combatibility shapes:->\",a.shape,b.shape == c.shape)"
   ]
  },
  {
   "cell_type": "code",
   "execution_count": null,
   "id": "c5f35974",
   "metadata": {},
   "outputs": [
    {
     "name": "stdout",
     "output_type": "stream",
     "text": [
      "Sorted Array:-> [[1 2]\n",
      " [3 4]\n",
      " [5 6]]\n",
      "Orignal Array [[1 2]\n",
      " [5 6]]\n",
      "Insert new_line:-> [[1 2]\n",
      " [5 6]\n",
      " [3 4]]\n",
      "with new column:-> [[1 2 3]\n",
      " [5 6 7]]\n",
      "deleted number:-> [ 3  5  6  7  8  9 10]\n"
     ]
    }
   ],
   "source": [
    "orignal = np.array([[1,2],[5,6]])\n",
    "\n",
    "new_row = np.array([3,4])\n",
    "with_new_row = np.vstack((orignal,new_row))  # it adds the row in to vertex,matrix,and tensor\n",
    "print(\"Sorted Array:->\",np.sort(with_new_row,axis=0))\n",
    "\n",
    "print(\"Orignal Array\",orignal)\n",
    "print(\"Insert new_line:->\",with_new_row)\n",
    "\n",
    "new_col = np.array([[3],[7]])\n",
    "with_new_col = np.hstack((orignal,new_col)) # it adds the column in to vertex,matrix,and tensor\n",
    "print(\"with new column:->\",with_new_col)\n",
    "\n",
    "new_array = np.array([1,2,3,4,5,6,7,8,9,10])\n",
    "deleted = np.delete(new_array,[0,3,1]) # it deletes the number,column,row in to vertex,matrix,and tensor \n",
    "print(\"deleted number:->\",deleted)\n"
   ]
  }
 ],
 "metadata": {
  "kernelspec": {
   "display_name": ".venv",
   "language": "python",
   "name": "python3"
  },
  "language_info": {
   "codemirror_mode": {
    "name": "ipython",
    "version": 3
   },
   "file_extension": ".py",
   "mimetype": "text/x-python",
   "name": "python",
   "nbconvert_exporter": "python",
   "pygments_lexer": "ipython3",
   "version": "3.12.3"
  }
 },
 "nbformat": 4,
 "nbformat_minor": 5
}
