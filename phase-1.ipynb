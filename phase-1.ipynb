{
 "cells": [
  {
   "cell_type": "markdown",
   "id": "6e8809d6",
   "metadata": {},
   "source": [
    "NUMPY WITH CHAI CODE"
   ]
  },
  {
   "cell_type": "code",
   "execution_count": null,
   "id": "2669f35e",
   "metadata": {},
   "outputs": [],
   "source": [
    "import numpy as np"
   ]
  },
  {
   "cell_type": "markdown",
   "id": "e499ac00",
   "metadata": {},
   "source": [
    "### 1d and 2d Array"
   ]
  },
  {
   "cell_type": "code",
   "execution_count": null,
   "id": "837e256a",
   "metadata": {},
   "outputs": [],
   "source": [
    "arry_1d = np.array([1,2,3,4,5])\n",
    "print(\"1d array: \",arry_1d)\n",
    "arry_2d = np.array([[1,2,3],[4,5,6]])\n",
    "print(\"2d array: \",arry_2d)"
   ]
  },
  {
   "cell_type": "markdown",
   "id": "1af25892",
   "metadata": {},
   "source": [
    "### Array formation"
   ]
  },
  {
   "cell_type": "code",
   "execution_count": null,
   "id": "b3719b58",
   "metadata": {},
   "outputs": [],
   "source": [
    "array = np.arange(100) \n",
    "print(array)"
   ]
  },
  {
   "cell_type": "markdown",
   "id": "6a902279",
   "metadata": {},
   "source": [
    "#### Time difference btw python Array and numpy Array"
   ]
  },
  {
   "cell_type": "markdown",
   "id": "a6cca811",
   "metadata": {},
   "source": [
    "Python_array"
   ]
  },
  {
   "cell_type": "code",
   "execution_count": null,
   "id": "ff3a5e9a",
   "metadata": {},
   "outputs": [],
   "source": [
    "p_array = [1,2,3,4,5]\n",
    "print(\"python_array: \",p_array * 2)\n"
   ]
  },
  {
   "cell_type": "markdown",
   "id": "5b6e2573",
   "metadata": {},
   "source": [
    "numpy_array"
   ]
  },
  {
   "cell_type": "code",
   "execution_count": null,
   "id": "0f9aa2b8",
   "metadata": {},
   "outputs": [],
   "source": [
    "n_array = np.array([1,2,3,4]) * 2\n",
    "print(n_array)"
   ]
  },
  {
   "cell_type": "markdown",
   "id": "9470eeaa",
   "metadata": {},
   "source": [
    "MULTIPLICATION AND TIME NOTED"
   ]
  },
  {
   "cell_type": "code",
   "execution_count": null,
   "id": "0043de29",
   "metadata": {},
   "outputs": [],
   "source": [
    "import time\n",
    "start = time.time()\n",
    "p_array = [i*2 for i in range(10000000)]\n",
    "print(f\"p_array timing: {time.time() - start}\")\n",
    "# print(p_array)\n",
    "\n",
    "start = time.time()\n",
    "n_array = np.arange(10000000) *2\n",
    "print(f\"n_array timing: {time.time() - start}\")\n",
    "# print(n_array)"
   ]
  },
  {
   "cell_type": "markdown",
   "id": "3904c170",
   "metadata": {},
   "source": [
    "### Creating Array From Sctrach"
   ]
  },
  {
   "cell_type": "code",
   "execution_count": null,
   "id": "f47d884f",
   "metadata": {},
   "outputs": [],
   "source": [
    "zeros = np.zeros((3,4))   # R = rows , C = column ,Respectively\n",
    "# print(\"zeros array:\\n \" ,zeros)\n",
    "\n",
    "ones = np.ones((2,3))\n",
    "# print(\"ones array:\\n \" ,ones)\n",
    "\n",
    "full = np.full((3,2) , 7)\n",
    "# print(\"full array:\\n \" ,full)\n",
    "\n",
    "\n",
    "random = np.random.random((2,3))\n",
    "# print(\"random array:\\n \" ,random)\n",
    "\n",
    "sequence = np.arange(0,10,2)\n",
    "print(\"sequence array:\\n \" ,sequence)"
   ]
  },
  {
   "cell_type": "markdown",
   "id": "ff6a9cba",
   "metadata": {},
   "source": [
    "### VECTOR , MATRIX AND TENSOR"
   ]
  },
  {
   "cell_type": "code",
   "execution_count": null,
   "id": "943bb73f",
   "metadata": {},
   "outputs": [],
   "source": [
    "vector = np.array([1,2,3]) # 1 d array \n",
    "print(\"vector array:\\n \" ,vector)\n",
    "\n",
    "matrix = np.array([[2,3] , [2,4]]) # 2 d array\n",
    "print(\"matrix array:\\n \" ,matrix)\n",
    "\n",
    "tensor = np.array([[[1,2] , [3,5]],\n",
    "                    [[2,3],[4,2]]])\n",
    "\n",
    "print(\"tensor array:\\n \" ,tensor)"
   ]
  },
  {
   "cell_type": "markdown",
   "id": "f0d609ec",
   "metadata": {},
   "source": [
    "## Array Reshaping"
   ]
  },
  {
   "cell_type": "code",
   "execution_count": null,
   "id": "5e3d7a0a",
   "metadata": {},
   "outputs": [],
   "source": [
    "arr = np.arange(12) # normal numpy array\n",
    "print(\"orignal array:\\n \" ,arr)\n",
    "\n",
    "reshaped = arr.reshape((3,4)) # used to convert the normal array in to different dimentions\n",
    "print(\"reshaped array:\\n \" ,reshaped)\n",
    "\n",
    "flattend = reshaped.flatten() # used to convet 2d array in to 1d\n",
    "print(\"flattend array:\\n \" ,flattend)\n",
    "\n",
    "raveled = reshaped.ravel() # it is also like flattend , but it returns view,instead of copy , it is like a inplace=True in pandas library\n",
    "print(\"ravel array:\\n \" ,raveled)\n",
    "\n",
    "# Transpose\n",
    "transpose = reshaped.T\n",
    "print(\"transpose array:\\n \" ,transpose)\n",
    "\n"
   ]
  }
 ],
 "metadata": {
  "kernelspec": {
   "display_name": ".venv",
   "language": "python",
   "name": "python3"
  },
  "language_info": {
   "codemirror_mode": {
    "name": "ipython",
    "version": 3
   },
   "file_extension": ".py",
   "mimetype": "text/x-python",
   "name": "python",
   "nbconvert_exporter": "python",
   "pygments_lexer": "ipython3",
   "version": "3.12.3"
  }
 },
 "nbformat": 4,
 "nbformat_minor": 5
}
