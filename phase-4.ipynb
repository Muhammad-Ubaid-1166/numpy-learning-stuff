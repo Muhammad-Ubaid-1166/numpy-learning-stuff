{
 "cells": [
  {
   "cell_type": "code",
   "execution_count": 22,
   "id": "fe325514",
   "metadata": {},
   "outputs": [],
   "source": [
    "import numpy as np\n",
    "import matplotlib.pyplot as plt"
   ]
  },
  {
   "cell_type": "code",
   "execution_count": 23,
   "id": "a4074171",
   "metadata": {},
   "outputs": [],
   "source": [
    "array_1 = np.array([1,2,3,4,5])\n",
    "array_2 = np.random.rand(3 , 4)\n",
    "array_3 = np.zeros((3,6))"
   ]
  },
  {
   "cell_type": "code",
   "execution_count": 24,
   "id": "7b26ec0f",
   "metadata": {},
   "outputs": [],
   "source": [
    "np.save(\"array_1.npy\",array_1)\n",
    "np.save(\"array_2.npy\",array_2)\n",
    "np.save(\"array_3.npy\",array_3)"
   ]
  },
  {
   "cell_type": "code",
   "execution_count": 25,
   "id": "87ff3ec8",
   "metadata": {},
   "outputs": [
    {
     "name": "stdout",
     "output_type": "stream",
     "text": [
      "[[0. 0. 0. 0. 0. 0.]\n",
      " [0. 0. 0. 0. 0. 0.]\n",
      " [0. 0. 0. 0. 0. 0.]]\n"
     ]
    }
   ],
   "source": [
    "load_array = np.load(\"array_3.npy\")\n",
    "print(load_array)"
   ]
  },
  {
   "cell_type": "code",
   "execution_count": 41,
   "id": "61efed9e",
   "metadata": {},
   "outputs": [
    {
     "data": {
      "image/png": "[encoded data removed]",
      "text/plain": [
       "<Figure size 1000x500 with 2 Axes>"
      ]
     },
     "metadata": {},
     "output_type": "display_data"
    }
   ],
   "source": [
    "import numpy as np\n",
    "\n",
    "# Image size (height, width, 3)\n",
    "h, w = 100, 300\n",
    "img = np.ones((h, w, 3), dtype=np.uint8) * 255  # white background\n",
    "\n",
    "# Colors (RGB)\n",
    "green = np.array([179, 208, 50], dtype=np.uint8)\n",
    "blue = np.array([0, 93, 169], dtype=np.uint8)\n",
    "\n",
    "# Draw left vertical green bar of \"N\"\n",
    "left_bar_x_start = 30\n",
    "left_bar_x_end = 70\n",
    "img[10:90, left_bar_x_start:left_bar_x_end] = green\n",
    "\n",
    "# Draw right vertical green bar of \"N\"\n",
    "right_bar_x_start = 200\n",
    "right_bar_x_end = 240\n",
    "img[10:90, right_bar_x_start:right_bar_x_end] = green\n",
    "\n",
    "# Draw diagonal blue bar of \"N\"\n",
    "# We'll draw a line from bottom-left corner of left bar to top-right corner of right bar\n",
    "for i in range(80):  # height from 10 to 90\n",
    "    y = 10 + i\n",
    "    # Calculate corresponding x position along the diagonal line\n",
    "    x = int(left_bar_x_end + (right_bar_x_start - left_bar_x_end) * i / 80)\n",
    "    # Draw a small thickness of 10 pixels in x-direction\n",
    "    img[y-2:y+3, x:x+10] = blue\n",
    "\n",
    "# Save the image array as .npy\n",
    "np.save(\"numpy_logo_N.npy\", img)\n",
    "\n",
    "\n",
    "\n",
    "try:\n",
    "    img = np.load(\"numpy_logo_N.npy\")\n",
    "    plt.figure(figsize=(10,5))\n",
    "    plt.subplot(121)\n",
    "    plt.imshow(img)\n",
    "    plt.title(\"Numpy_logo\")\n",
    "    plt.grid(False)\n",
    "    \n",
    "    dark_logo = 1-img\n",
    "    plt.subplot(122)\n",
    "    plt.imshow(dark_logo)\n",
    "    plt.title(\"Numpy_dark_logo\")\n",
    "    plt.grid(False)\n",
    "    \n",
    "except FileNotFoundError:\n",
    "    print(\"npy file not found!\")"
   ]
  }
 ],
 "metadata": {
  "kernelspec": {
   "display_name": ".venv",
   "language": "python",
   "name": "python3"
  },
  "language_info": {
   "codemirror_mode": {
    "name": "ipython",
    "version": 3
   },
   "file_extension": ".py",
   "mimetype": "text/x-python",
   "name": "python",
   "nbconvert_exporter": "python",
   "pygments_lexer": "ipython3",
   "version": "3.12.3"
  }
 },
 "nbformat": 4,
 "nbformat_minor": 5
}
