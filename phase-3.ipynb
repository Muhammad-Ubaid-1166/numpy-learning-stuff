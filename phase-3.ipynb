{
 "cells": [
  {
   "cell_type": "markdown",
   "id": "29800aed",
   "metadata": {},
   "source": [
    "# Advanced Operations with Buisness Examples"
   ]
  },
  {
   "cell_type": "markdown",
   "id": "0b882d70",
   "metadata": {},
   "source": [
    "## ROW , COLUMN , STEPS  (row=start:row=stop:row=step) , (column=start:column=stop:column=step)"
   ]
  },
  {
   "cell_type": "markdown",
   "id": "7960f290",
   "metadata": {},
   "source": [
    "# (Axis = 0 == columns) , (Axis = 1 == rows )"
   ]
  },
  {
   "cell_type": "code",
   "execution_count": 1,
   "id": "c792b366",
   "metadata": {},
   "outputs": [],
   "source": [
    "import numpy as np\n",
    "import matplotlib.pyplot as plt"
   ]
  },
  {
   "cell_type": "code",
   "execution_count": 2,
   "id": "ad71ff8c",
   "metadata": {},
   "outputs": [],
   "source": [
    "# Data structure: [resturent_id , 2021 , 2022 , 2023 , 2024]"
   ]
  },
  {
   "cell_type": "code",
   "execution_count": 3,
   "id": "6f21a5b7",
   "metadata": {},
   "outputs": [],
   "source": [
    "sales_data = np.array([\n",
    "    [1, 100, 120, 130, 140],   # Paradise\n",
    "    [2, 90,  115, 125, 150],   # BBQ Tonight\n",
    "    [3, 200, 220, 210, 250],   # Biryani House\n",
    "    [4, 130, 140, 135, 145],   # Karachi Grill\n",
    "    [5, 110, 105, 115, 120]    # Chaat House\n",
    "])\n",
    "\n",
    "# sales_data = np.array([\n",
    "#     [1, \"First_row_element e_1\", \"First_row e_2\", \"First_row e_3\", \"First_row e_4\"], # paradise\n",
    "#     [2, \"Second_row e 1\", \"Second_row e_2\", \"Second_row e_3\", \"Second_row e_4\"], # BBQ Tonight\n",
    "#     [3, \"Third_row e 1\", \"Third_row e_2\", \"Third_row e_3\", \"Third_row e_4\"], # Biryani House\n",
    "#     [4, \"Fourth_row e 1\", \"Fourth_row e_2\", \"Fourth_row e_3\", \"Fourth_row e_4\"], # Karachi Grill\n",
    "#     [5, \"Fifth_row e 1\", \"Fifth_row e_2\", \"Fifth_row e_3\", \"Fift_row e_4\"]  # Chaat House\n",
    "# ])"
   ]
  },
  {
   "cell_type": "code",
   "execution_count": 4,
   "id": "1ebae3d6",
   "metadata": {},
   "outputs": [
    {
     "name": "stdout",
     "output_type": "stream",
     "text": [
      "(5, 5)\n",
      "2\n",
      "int64\n",
      "25\n",
      "8\n",
      "200\n",
      "(40, 8)\n"
     ]
    }
   ],
   "source": [
    "print(sales_data.shape)  # Output: (5, 5) because there are 5 rows and 5 columns\n",
    "print(sales_data.ndim)   # Output: 2 = 2D array because it has rows and columns\n",
    "print(sales_data.dtype)  # Output: int64 (or similar, depending on your system)\n",
    "print(sales_data.size)   # Output: 25 (5 rows * 5 columns)\n",
    "print(sales_data.itemsize)  # Output: 8 (size of int64) because each element is an int64\n",
    "print(sales_data.nbytes)  # Output: 200 (5 rows * 5 columns * 8 bytes per int64)\n",
    "print(sales_data.strides)  # Output: (40, 8) (40 bytes for row stride, 8 bytes for column stride)"
   ]
  },
  {
   "cell_type": "markdown",
   "id": "8d1646a5",
   "metadata": {},
   "source": [
    "### Main Operations"
   ]
  },
  {
   "cell_type": "code",
   "execution_count": 5,
   "id": "2f7b1e57",
   "metadata": {},
   "outputs": [
    {
     "name": "stdout",
     "output_type": "stream",
     "text": [
      "=== Zomato_Sales Data ===\n",
      "First 3 Rows: \n",
      " [[  1 100 120 130 140]\n",
      " [  2  90 115 125 150]\n",
      " [  3 200 220 210 250]]\n",
      "Testing Rows:-> [[100 120 130 140]\n",
      " [ 90 115 125 150]\n",
      " [200 220 210 250]\n",
      " [130 140 135 145]\n",
      " [110 105 115 120]]\n"
     ]
    }
   ],
   "source": [
    "print(\"=== Zomato_Sales Data ===\")\n",
    "print(\"First 3 Rows: \\n\", sales_data[0:3])\n",
    "print(\"Testing Rows:->\", sales_data[:,1:]) "
   ]
  },
  {
   "cell_type": "markdown",
   "id": "45a6ec99",
   "metadata": {},
   "source": [
    "### sum_operations"
   ]
  },
  {
   "cell_type": "code",
   "execution_count": 6,
   "id": "f1a3e4e9",
   "metadata": {},
   "outputs": [
    {
     "name": "stdout",
     "output_type": "stream",
     "text": [
      "2865\n"
     ]
    }
   ],
   "source": [
    "data_sum = np.sum(sales_data,axis=0)\n",
    "print(sum(data_sum))\n",
    "# print(\"sum data by columns:->\",np.sum(sales_data[:,:1],axis=0))\n",
    "# print(\"sum data by columns:->\",np.sum(sales_data[:,1:2],axis=0))\n",
    "# print(\"sum data by rows:->\",np.sum(sales_data[0:1,1:],axis=1))"
   ]
  },
  {
   "cell_type": "code",
   "execution_count": 7,
   "id": "6943a0cc",
   "metadata": {},
   "outputs": [
    {
     "name": "stdout",
     "output_type": "stream",
     "text": [
      "=== Axis 0 → Column-wise (per month) ===\n",
      "Minimum sales per month:-> [ 90 105 115 120]\n",
      "Maximum sales per month:-> [200 220 210 250]\n",
      "Average sales per month:-> [126. 140. 143. 161.]\n",
      "\n",
      "=== Axis 1 → Row-wise (per restaurant) ===\n",
      "Minimum sale for each restaurant:-> [100  90 200 130 105]\n",
      "Maximum sale for each restaurant:-> [140 150 250 145 120]\n",
      "Average sale for each restaurant:-> [122.5 120.  220.  137.5 112.5]\n",
      "Cumsum for each restaurant:->\n",
      " [[100 220 350 490]\n",
      " [ 90 205 330 480]\n",
      " [200 420 630 880]\n",
      " [130 270 405 550]\n",
      " [110 215 330 450]]\n"
     ]
    }
   ],
   "source": [
    "import numpy as np\n",
    "\n",
    "# ------------------------------\n",
    "#   Understanding the layout\n",
    "#\n",
    "#           ^  column (axis=0)\n",
    "#           |\n",
    "#   ID  Jan  Feb  Mar  Apr\n",
    "# row-> 1   100  120  130  140   # Paradise\n",
    "# row-> 2    90  115  125  150   # BBQ Tonight\n",
    "# row-> 3   200  220  210  250   # Biryani House\n",
    "# row-> 4   130  140  135  145   # Karachi Grill\n",
    "# row-> 5   110  105  115  120   # Chaat House\n",
    "# ------------------------------\n",
    "\n",
    "sales_data = np.array([\n",
    "    [1, 100, 120, 130, 140],   # Paradise\n",
    "    [2,  90, 115, 125, 150],   # BBQ Tonight\n",
    "    [3, 200, 220, 210, 250],   # Biryani House\n",
    "    [4, 130, 140, 135, 145],   # Karachi Grill\n",
    "    [5, 110, 105, 115, 120]    # Chaat House\n",
    "])\n",
    "\n",
    "# Remove ID column\n",
    "only_sales = sales_data[:, 1:]\n",
    "\n",
    "# ===== Axis = 0 (per month) =====\n",
    "min_sale_per_month = np.min(only_sales, axis=0)\n",
    "max_sale_per_month = np.max(only_sales, axis=0)\n",
    "avg_sale_per_month = np.mean(only_sales, axis=0)\n",
    "\n",
    "# ===== Axis = 1 (per restaurant) =====\n",
    "min_sale_per_restaurant = np.min(only_sales, axis=1)\n",
    "max_sale_per_restaurant = np.max(only_sales, axis=1)\n",
    "avg_sale_per_restaurant = np.mean(only_sales, axis=1)\n",
    "cumsum = np.cumsum(only_sales,axis=1)\n",
    "\n",
    "# ===== Output =====\n",
    "print(\"=== Axis 0 → Column-wise (per month) ===\")\n",
    "print(\"Minimum sales per month:->\", min_sale_per_month)\n",
    "print(\"Maximum sales per month:->\", max_sale_per_month)\n",
    "print(\"Average sales per month:->\", avg_sale_per_month)\n",
    "\n",
    "print(\"\\n=== Axis 1 → Row-wise (per restaurant) ===\")\n",
    "print(\"Minimum sale for each restaurant:->\", min_sale_per_restaurant)\n",
    "print(\"Maximum sale for each restaurant:->\", max_sale_per_restaurant)\n",
    "print(\"Average sale for each restaurant:->\", avg_sale_per_restaurant)\n",
    "print(\"Cumsum for each restaurant:->\\n\", cumsum)\n"
   ]
  },
  {
   "cell_type": "markdown",
   "id": "9575ccde",
   "metadata": {},
   "source": [
    "## Use Case Of Matplotlib"
   ]
  },
  {
   "cell_type": "code",
   "execution_count": 8,
   "id": "eff14c57",
   "metadata": {},
   "outputs": [
    {
     "data": {
      "image/png": "[encoded data removed]",
      "text/plain": [
       "<Figure size 800x600 with 1 Axes>"
      ]
     },
     "metadata": {},
     "output_type": "display_data"
    }
   ],
   "source": [
    "plt.figure(figsize=(8, 6))\n",
    "plt.plot(min_sale_per_month)\n",
    "plt.title(\"Average cumulative sales accross all restaurent\")\n",
    "plt.xlabel(\"Years\")\n",
    "plt.ylabel(\"sales\")\n",
    "plt.grid(True)\n",
    "plt.show()"
   ]
  },
  {
   "cell_type": "markdown",
   "id": "40d53e41",
   "metadata": {},
   "source": [
    "## Vector Addition and Multiplication"
   ]
  },
  {
   "cell_type": "code",
   "execution_count": 9,
   "id": "44d1957a",
   "metadata": {},
   "outputs": [
    {
     "name": "stdout",
     "output_type": "stream",
     "text": [
      "\n",
      "vector_1 + vector_2:-> [ 7  9 11 13 15]\n",
      "\n",
      "vector_1 * vector_2:-> [ 6 14 24 36 50]\n",
      "\n",
      "Dot Product:-> 130\n"
     ]
    }
   ],
   "source": [
    "vector_1 = np.array([1,2,3,4,5])\n",
    "vector_2 = np.array([6,7,8,9,10])\n",
    "\n",
    "print(\"\\nvector_1 + vector_2:->\",vector_1+vector_2)\n",
    "print(\"\\nvector_1 * vector_2:->\",vector_1*vector_2)\n",
    "\n",
    "print(\"\\nDot Product:->\",np.dot(vector_1,vector_2))\n"
   ]
  },
  {
   "cell_type": "markdown",
   "id": "5236be98",
   "metadata": {},
   "source": [
    "### Upper_case and other Operations"
   ]
  },
  {
   "cell_type": "code",
   "execution_count": 10,
   "id": "fe1d930b",
   "metadata": {},
   "outputs": [
    {
     "name": "stdout",
     "output_type": "stream",
     "text": [
      "Upper_case vectorize:-> ['MIRCHI' 'PAE' 'CHAWAL' 'BIRYANI' 'TEA']\n"
     ]
    }
   ],
   "source": [
    "resturent_types = np.array([\"mirchi\",\"pae\",\"chawal\",\"biryani\",\"tea\"])\n",
    "vectorize_upper = np.vectorize(str.upper)\n",
    "print(\"Upper_case vectorize:->\",vectorize_upper(resturent_types))"
   ]
  },
  {
   "cell_type": "markdown",
   "id": "5f3258e8",
   "metadata": {},
   "source": [
    "### Monthly_Average , (this operation is done with every vector=(individual_number))"
   ]
  },
  {
   "cell_type": "code",
   "execution_count": 12,
   "id": "a337033c",
   "metadata": {},
   "outputs": [
    {
     "name": "stdout",
     "output_type": "stream",
     "text": [
      "[[  1 100 120 130 140]\n",
      " [  2  90 115 125 150]\n",
      " [  3 200 220 210 250]\n",
      " [  4 130 140 135 145]\n",
      " [  5 110 105 115 120]]\n",
      "[[ 8.33333333 10.         10.83333333 11.66666667]\n",
      " [ 7.5         9.58333333 10.41666667 12.5       ]\n",
      " [16.66666667 18.33333333 17.5        20.83333333]\n",
      " [10.83333333 11.66666667 11.25       12.08333333]\n",
      " [ 9.16666667  8.75        9.58333333 10.        ]]\n"
     ]
    }
   ],
   "source": [
    "print(sales_data)\n",
    "monthly_average = sales_data[:,1:] / 12\n",
    "print(monthly_average)"
   ]
  }
 ],
 "metadata": {
  "kernelspec": {
   "display_name": ".venv",
   "language": "python",
   "name": "python3"
  },
  "language_info": {
   "codemirror_mode": {
    "name": "ipython",
    "version": 3
   },
   "file_extension": ".py",
   "mimetype": "text/x-python",
   "name": "python",
   "nbconvert_exporter": "python",
   "pygments_lexer": "ipython3",
   "version": "3.12.3"
  }
 },
 "nbformat": 4,
 "nbformat_minor": 5
}
